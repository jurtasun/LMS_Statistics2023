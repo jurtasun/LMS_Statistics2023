{
 "cells": [
  {
   "cell_type": "markdown",
   "metadata": {},
   "source": [
    "# Introduction to Sampling and Hypothesis Testing"
   ]
  },
  {
   "cell_type": "markdown",
   "metadata": {},
   "source": [
    "## Sampling | Confidence intervals"
   ]
  },
  {
   "cell_type": "code",
   "execution_count": 1,
   "metadata": {},
   "outputs": [],
   "source": [
    "# Select this cell and type Ctrl-Enter to execute the code below.\n",
    "\n",
    "import numpy as np\n",
    "from scipy import stats\n",
    "import matplotlib.pyplot as plt"
   ]
  },
  {
   "cell_type": "markdown",
   "metadata": {},
   "source": [
    "### Standard normal distribution\n",
    "\n",
    "Consider a normal distribution with mean 0 and standard deviation 1:\n",
    "\n",
    "$$Z \\sim N(0,1)$$\n",
    "\n",
    "$Z$ is known as the *standard normal distribution*.\n",
    "\n",
    "\n"
   ]
  },
  {
   "cell_type": "code",
   "execution_count": 2,
   "metadata": {},
   "outputs": [],
   "source": [
    "Z = stats.norm(0,1)  # a standard normal distribution"
   ]
  },
  {
   "cell_type": "code",
   "execution_count": 3,
   "metadata": {},
   "outputs": [
    {
     "data": {
      "text/plain": [
       "[<matplotlib.lines.Line2D at 0x117a87890>]"
      ]
     },
     "execution_count": 3,
     "metadata": {},
     "output_type": "execute_result"
    },
    {
     "data": {
      "image/png": "[encoded data removed]",
      "text/plain": [
       "<Figure size 640x480 with 1 Axes>"
      ]
     },
     "metadata": {},
     "output_type": "display_data"
    }
   ],
   "source": [
    "# plot the probability density function\n",
    "x = np.linspace(-4,4,100)\n",
    "plt.plot(x, Z.pdf(x), color='r')"
   ]
  },
  {
   "cell_type": "code",
   "execution_count": null,
   "metadata": {},
   "outputs": [],
   "source": [
    "# plot the cumulative distribution function\n",
    "plt.plot(x,Z.cdf(x))"
   ]
  },
  {
   "cell_type": "markdown",
   "metadata": {},
   "source": [
    "How much of the probability mass lies within one, two, or three standard deviations of the mean? (Hint: use the cdf!)"
   ]
  },
  {
   "cell_type": "code",
   "execution_count": null,
   "metadata": {},
   "outputs": [],
   "source": [
    "# one sigma\n",
    "Z.cdf(1) - Z.cdf(-1)"
   ]
  },
  {
   "cell_type": "code",
   "execution_count": null,
   "metadata": {},
   "outputs": [],
   "source": [
    "# two sigma\n",
    "Z.cdf(2) - Z.cdf(-2)"
   ]
  },
  {
   "cell_type": "code",
   "execution_count": null,
   "metadata": {},
   "outputs": [],
   "source": [
    "# three sigma\n",
    "Z.cdf(3) - Z.cdf(-3)"
   ]
  },
  {
   "cell_type": "markdown",
   "metadata": {},
   "source": [
    "We are often interested in the regions containing a certain percentage of the probability mass, for example, find $z_{90}$ such that\n",
    "\n",
    "$$\\mathbb{P}(-z_{90} < z < z_{90}) = 0.9$$\n",
    "\n",
    "Python makes it easy for us to find these *critical values* of $z$, e.g."
   ]
  },
  {
   "cell_type": "code",
   "execution_count": null,
   "metadata": {},
   "outputs": [],
   "source": [
    "region = Z.interval(0.9)\n",
    "print(region)"
   ]
  },
  {
   "cell_type": "code",
   "execution_count": null,
   "metadata": {},
   "outputs": [],
   "source": [
    "# plot the probability density function\n",
    "plt.plot(x, Z.pdf(x), color='r')\n",
    "\n",
    "# the shaded region contains 90% of the probability mass\n",
    "x_region = np.linspace(region[0],region[1],100)\n",
    "plt.fill_between(x_region,Z.pdf(x_region),color='lightgrey')"
   ]
  },
  {
   "cell_type": "markdown",
   "metadata": {},
   "source": [
    "Find the corresponding regions for 95% and 99% of the probability mass."
   ]
  },
  {
   "cell_type": "code",
   "execution_count": null,
   "metadata": {},
   "outputs": [],
   "source": [
    "#95%\n",
    "Z.interval(.95)"
   ]
  },
  {
   "cell_type": "code",
   "execution_count": null,
   "metadata": {},
   "outputs": [],
   "source": [
    "#99%\n",
    "Z.interval(.99)"
   ]
  },
  {
   "cell_type": "markdown",
   "metadata": {},
   "source": [
    "### Z-score\n",
    "\n",
    "Note that we can *standardise* any random variable by subtracting the mean and dividing by the standard deviation. When applied to a single observation, this is known as the *z-score*:\n",
    "\n",
    "$$z =\\frac{x-\\mu}{\\sigma}$$\n"
   ]
  },
  {
   "cell_type": "markdown",
   "metadata": {},
   "source": [
    "### Confidence intervals"
   ]
  },
  {
   "cell_type": "markdown",
   "metadata": {},
   "source": [
    "The best single estimate of the population mean $\\mu$ based on a sample of data is simply the sample mean, $\\bar{x}$.\n",
    "\n",
    "However, it is often useful to describe the precision of our estimate by giving a *confidence interval* instead of a point estimate.\n",
    "\n",
    "We say that the true mean lies within the interval with e.g. 90% confidence.\n",
    "\n",
    "From the central limit theorem, $\\bar{X} \\sim N(\\mu,\\sigma^2/n)$\n",
    "\n",
    "When $n$ is large (>30), we have $\\sigma \\approx s$, so $\\bar{X} \\sim N(\\mu,s^2/n)$\n",
    "\n",
    "Standardisation gives \n",
    "$$z = \\frac{\\bar{x}-\\mu}{s/\\sqrt{n}}$$\n",
    "\n",
    "From the above critical value calculation, the 90\\% confidence interval is where $-1.64 < z < 1.64$\n",
    "\n",
    "Substituting for $z$, we have\n",
    "\n",
    "$$\\mathbb{P}\\left(\\bar{x}-1.64\\frac{s}{\\sqrt{n}} < \\mu < \\bar{x}+1.64\\frac{s}{\\sqrt{n}}\\right) =  0.9$$\n",
    "\n"
   ]
  },
  {
   "cell_type": "markdown",
   "metadata": {},
   "source": [
    "#### Example: speed of light"
   ]
  },
  {
   "cell_type": "markdown",
   "metadata": {},
   "source": [
    "Below are the results of 64 measurements of the speed of light made by Simon Newcomb in 1882, in km/s."
   ]
  },
  {
   "cell_type": "code",
   "execution_count": null,
   "metadata": {},
   "outputs": [],
   "source": [
    "data = np.array([265848, 256680, 248124, 310155, 265848, 201182, 232617,\n",
    "       206770, 275694, 286297, 265848, 256680, 286297, 275694,\n",
    "       338351, 323640, 372187, 297749, 297749, 206770, 323640,\n",
    "       240120, 232617, 310155, 275694, 225568, 465233, 310155,\n",
    "       256680, 206770, 354463, 265848, 286297, 275694, 275694,\n",
    "       232617, 297749, 265848, 310155, 186093, 354463, 240120,\n",
    "       232617, 265848, 286297, 248124, 275694, 286297, 310155,\n",
    "       232617, 256680, 218933, 297749, 391775, 206770, 256680,\n",
    "       248124, 338351, 265848, 225568, 190865, 297749, 465233,\n",
    "       323640])"
   ]
  },
  {
   "cell_type": "markdown",
   "metadata": {},
   "source": [
    "Based on these data, calculate a 95% confidence interval for the speed of light."
   ]
  },
  {
   "cell_type": "code",
   "execution_count": null,
   "metadata": {},
   "outputs": [],
   "source": [
    "# first, calculate the sample mean and s.d.\n",
    "xbar = np.mean(data)\n",
    "print(xbar)\n",
    "\n",
    "s = np.std(data,ddof=1)  ## use ddof=1 to use the unbiased estimator\n",
    "print(s)"
   ]
  },
  {
   "cell_type": "code",
   "execution_count": null,
   "metadata": {},
   "outputs": [],
   "source": [
    "# now find the critical value\n",
    "z95 = Z.interval(0.95)[1]\n",
    "print(z95)"
   ]
  },
  {
   "cell_type": "code",
   "execution_count": null,
   "metadata": {},
   "outputs": [],
   "source": [
    "# finally calculate the 95% confidence interval for mu\n",
    "ci = np.array([xbar - z95 * s / np.sqrt(64) , xbar + z95 * s / np.sqrt(64)])\n",
    "print(ci)"
   ]
  },
  {
   "cell_type": "markdown",
   "metadata": {},
   "source": [
    "### Confidence intervals for small $n$"
   ]
  },
  {
   "cell_type": "markdown",
   "metadata": {},
   "source": [
    "The central limit theorem only applies when $n$ is large. For small samples ($n$<30), the normal distribution is not a good approximation to the sampling distribution of the mean, because our estimate of the population variance is likely to be poor.\n",
    "\n",
    "However, for situations where the *population* is expected to be normally distributed, we can use **Student's t-distribution** to construct an appropriate confidence interval. This has a broader bell-curve, which reflects our lack of knowledge about the population variance.\n",
    "\n",
    "The t-distribution takes an additional parameter, which is $\\nu$, the number of degrees of freedom. We set this as $n-1$.\n",
    "\n",
    "For high values of $\\nu$, the t-distribution converges to the normal distribution.\n"
   ]
  },
  {
   "cell_type": "code",
   "execution_count": null,
   "metadata": {},
   "outputs": [],
   "source": [
    "t = stats.t(df=1)\n",
    "x = np.linspace(-4,4,100)\n",
    "plt.plot(x, t.pdf(x), color='r')\n",
    "plt.plot(x, Z.pdf(x), color='grey')"
   ]
  },
  {
   "cell_type": "markdown",
   "metadata": {},
   "source": [
    "#### Example: counting beetles"
   ]
  },
  {
   "cell_type": "markdown",
   "metadata": {},
   "source": [
    "You have been asked to measure the density of a particular species of beetle in a field.\n",
    "\n",
    "The following are the observed numbers in 10 samples using a 1 m<sup>2</sup> [quadrat](https://en.wikipedia.org/wiki/Quadrat)."
   ]
  },
  {
   "cell_type": "code",
   "execution_count": null,
   "metadata": {},
   "outputs": [],
   "source": [
    "data = np.array([5, 1, 6, 3, 2, 4, 2, 7, 1, 0])"
   ]
  },
  {
   "cell_type": "markdown",
   "metadata": {},
   "source": [
    "Calculate a 95% confidence interval for the beetle density."
   ]
  },
  {
   "cell_type": "code",
   "execution_count": null,
   "metadata": {},
   "outputs": [],
   "source": [
    "# first, calculate the sample mean and s.d.\n",
    "xbar = np.mean(data)\n",
    "print(xbar)\n",
    "\n",
    "s = np.std(data,ddof=1)  ## use ddof=1 to use the unbiased estimator\n",
    "print(s)"
   ]
  },
  {
   "cell_type": "code",
   "execution_count": null,
   "metadata": {},
   "outputs": [],
   "source": [
    "# construct the appropriate t-distribution\n",
    "T9 = stats.t(df=9)"
   ]
  },
  {
   "cell_type": "code",
   "execution_count": null,
   "metadata": {},
   "outputs": [],
   "source": [
    "# now find the critical value\n",
    "t95 = T9.interval(0.95)[1]\n",
    "print(t95)"
   ]
  },
  {
   "cell_type": "code",
   "execution_count": null,
   "metadata": {},
   "outputs": [],
   "source": [
    "# finally calculate the 95% confidence interval for mu\n",
    "ci = np.array([xbar - t95 * s / np.sqrt(10) , xbar + t95 * s / np.sqrt(10)])\n",
    "print(ci)"
   ]
  }
 ],
 "metadata": {
  "kernelspec": {
   "display_name": "Python 3 (ipykernel)",
   "language": "python",
   "name": "python3"
  },
  "language_info": {
   "codemirror_mode": {
    "name": "ipython",
    "version": 3
   },
   "file_extension": ".py",
   "mimetype": "text/x-python",
   "name": "python",
   "nbconvert_exporter": "python",
   "pygments_lexer": "ipython3",
   "version": "3.11.4"
  }
 },
 "nbformat": 4,
 "nbformat_minor": 4
}
